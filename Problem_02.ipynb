{
 "cells": [
  {
   "cell_type": "markdown",
   "metadata": {},
   "source": [
    "# Problem 02, loop a sum"
   ]
  },
  {
   "cell_type": "code",
   "execution_count": 20,
   "metadata": {
    "collapsed": false
   },
   "outputs": [
    {
     "name": "stdout",
     "output_type": "stream",
     "text": [
      "Give me your numbers, separated by space\n",
      "671 852 1069 619 117 620 1150 1058 451 1121 874 776 833 898 71 1015 808 42 162 405 147 157 429 1271 996 808 27 809 198 146 184 859 988 1244 178 1096 563 27 854 1005\n",
      "the sum is:  25598\n"
     ]
    }
   ],
   "source": [
    "print(\"Give me your numbers, separated by space\")\n",
    "numbers = list(input().split())\n",
    "\n",
    "sum = 0\n",
    "for i in numbers:\n",
    "    sum = sum + int(i)\n",
    "    \n",
    "print(\"the sum is: \", sum)"
   ]
  }
 ],
 "metadata": {
  "anaconda-cloud": {},
  "kernelspec": {
   "display_name": "Python [conda root]",
   "language": "python",
   "name": "conda-root-py"
  },
  "language_info": {
   "codemirror_mode": {
    "name": "ipython",
    "version": 3
   },
   "file_extension": ".py",
   "mimetype": "text/x-python",
   "name": "python",
   "nbconvert_exporter": "python",
   "pygments_lexer": "ipython3",
   "version": "3.5.2"
  }
 },
 "nbformat": 4,
 "nbformat_minor": 1
}
